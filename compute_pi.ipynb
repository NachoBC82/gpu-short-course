{
 "cells": [
  {
   "cell_type": "markdown",
   "id": "73f1c8ad-64f2-488f-a034-f42d29a8ba07",
   "metadata": {},
   "source": [
    "# Exercise 1: Compute pi on the GPU"
   ]
  },
  {
   "cell_type": "markdown",
   "id": "04fdc4bd-3ac2-42ab-a602-3dc20dbf1f5b",
   "metadata": {},
   "source": [
    "## Tasks"
   ]
  },
  {
   "cell_type": "markdown",
   "id": "251f5223-3ef3-4fbb-b0ea-d02830aed277",
   "metadata": {},
   "source": [
    "1. Write a CPU-program that computes pi using geometry and statistics\n",
    "2. Port this program to the GPU\n",
    "3. Optimize"
   ]
  },
  {
   "cell_type": "markdown",
   "id": "3af192b8-fc97-4c04-90b0-d683c8a0ad32",
   "metadata": {},
   "source": [
    "## Solution"
   ]
  },
  {
   "cell_type": "markdown",
   "id": "09edb316-eaba-4815-85d3-67c778d69290",
   "metadata": {},
   "source": [
    "<-- see `compute_pi_solution.ipynb`"
   ]
  },
  {
   "cell_type": "code",
   "execution_count": 17,
   "id": "afde457d-2bd5-492b-9d30-7443a64a686c",
   "metadata": {},
   "outputs": [],
   "source": [
    "import numpy as np\n",
    "import time\n",
    "\n",
    "rng = np.random.default_rng()\n",
    "\n",
    "def compute_pi_cpu(n_points):\n",
    "    x_rand = rng.random(n_points)\n",
    "    y_rand = rng.random(n_points)\n",
    "\n",
    "    inside = np.sqrt(x_rand**2 + y_rand**2) <= 1.0\n",
    "    n_inside = np.sum(inside)\n",
    "\n",
    "    #n_inside = 0\n",
    "    #for i in range(n_points):\n",
    "    #    n_inside += np.sqrt(x_rand[i]**2 + y_rand[i]**2) <= 1.0\n",
    "\n",
    "    pi = 4*n_inside/n_points\n",
    "\n",
    "    return pi"
   ]
  },
  {
   "cell_type": "code",
   "execution_count": 18,
   "id": "e972b8ac-82b1-4d8f-8920-162b069a1b80",
   "metadata": {},
   "outputs": [
    {
     "name": "stdout",
     "output_type": "stream",
     "text": [
      "3.13044\n",
      "Time for CPU-version: 0.003916 seconds\n",
      "CPU times: total: 0 ns\n",
      "Wall time: 4.92 ms\n"
     ]
    }
   ],
   "source": [
    "%%time\n",
    "\n",
    "tic = time.time()\n",
    "print(compute_pi_cpu(100000))\n",
    "toc = time.time()\n",
    "\n",
    "print(\"Time for CPU-version: {:f} seconds\".format(toc-tic))"
   ]
  },
  {
   "cell_type": "code",
   "execution_count": null,
   "id": "3cecc649-f6ab-4dda-9121-590662109b7d",
   "metadata": {},
   "outputs": [],
   "source": []
  }
 ],
 "metadata": {
  "kernelspec": {
   "display_name": "Python 3 (ipykernel)",
   "language": "python",
   "name": "python3"
  },
  "language_info": {
   "codemirror_mode": {
    "name": "ipython",
    "version": 3
   },
   "file_extension": ".py",
   "mimetype": "text/x-python",
   "name": "python",
   "nbconvert_exporter": "python",
   "pygments_lexer": "ipython3",
   "version": "3.11.5"
  }
 },
 "nbformat": 4,
 "nbformat_minor": 5
}
